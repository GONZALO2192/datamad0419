{
 "cells": [
  {
   "cell_type": "markdown",
   "metadata": {},
   "source": [
    "Define `docs` array that contains the paths of `doc1.txt`, `doc2.txt`, and `doc3.txt`."
   ]
  },
  {
   "cell_type": "code",
   "execution_count": 79,
   "metadata": {},
   "outputs": [
    {
     "name": "stdout",
     "output_type": "stream",
     "text": [
      "Ironhack is cool. I love Ironhack. I am a student at Ironhack.\n"
     ]
    }
   ],
   "source": [
    "\n",
    "docs = ['doc1.txt', 'doc2.txt', 'doc3.txt']\n",
    "doca = open ('doc1.txt')\n",
    "docb=open('doc2.txt')\n",
    "docc=open('doc3.txt')\n",
    "doc1 = doca.read()\n",
    "doc2=docb.read()\n",
    "doc3=docc.read()\n",
    "print(doc1,doc2,doc3)\n",
    "\n"
   ]
  },
  {
   "cell_type": "markdown",
   "metadata": {},
   "source": [
    "Define an empty array `corpus` that will contain the content strings of the docs. Loop `docs` and read the content of each doc into the `corpus` array."
   ]
  },
  {
   "cell_type": "code",
   "execution_count": 99,
   "metadata": {},
   "outputs": [
    {
     "name": "stdout",
     "output_type": "stream",
     "text": [
      "(['Ironhack is cool', ''], ['I love Ironhack', ''], ['I am a student at Ironhack', ''])\n"
     ]
    }
   ],
   "source": [
    "corpus = []\n",
    "\n",
    "for doc in docs:\n",
    "    docx=open(doc,'rt')\n",
    "    docy=docx.read()\n",
    "    corpus.append(docy)\n",
    "corpus =(corpus[0].split('.'),corpus[1].split('.'),corpus[2].split('.'))\n",
    "\n",
    "print(corpus)\n",
    "\n",
    "\n",
    "    \n",
    "    \n",
    "\n",
    "\n",
    "# Write your code here"
   ]
  },
  {
   "cell_type": "markdown",
   "metadata": {},
   "source": [
    "Print `corpus`."
   ]
  },
  {
   "cell_type": "code",
   "execution_count": 100,
   "metadata": {},
   "outputs": [
    {
     "name": "stdout",
     "output_type": "stream",
     "text": [
      "(['Ironhack is cool', ''], ['I love Ironhack', ''], ['I am a student at Ironhack', ''])\n"
     ]
    }
   ],
   "source": [
    "print(corpus)"
   ]
  },
  {
   "cell_type": "markdown",
   "metadata": {},
   "source": [
    "You should have seen:\n",
    "\n",
    "```['ironhack is cool', 'i love ironhack', 'i am a student at ironhack']```\n",
    "\n",
    "However, if your output is:\n",
    "\n",
    "```['Ironhack is cool.', 'I love Ironhack.', 'I am a student at Ironhack.']```\n",
    "\n",
    "This means you didn't:\n",
    "\n",
    "1. Remove punctuation from the strings;\n",
    "\n",
    "1. Convert strings to lowercase.\n",
    "\n",
    "Revise your code above until you receive the correct output for `corpus`."
   ]
  },
  {
   "cell_type": "markdown",
   "metadata": {},
   "source": [
    "Now define `bag_of_words` as an empty array. It will contain the unique terms in `corpus`.\n",
    "\n",
    "Loop through `corpus`. In each loop, do the following:\n",
    "\n",
    "1. Break the string into an array of terms. \n",
    "1. Create a sub-loop to iterate the terms array. \n",
    "  * In each sub-loop, you'll check if the current term is already contained in `bag_of_words`. If not in `bag_of_words`, append it to the array."
   ]
  },
  {
   "cell_type": "code",
   "execution_count": 144,
   "metadata": {},
   "outputs": [
    {
     "name": "stdout",
     "output_type": "stream",
     "text": [
      "['ironhack,is,cool,i,love,ironhack,i,am,a,student,at,ironhack']\n",
      "1\n"
     ]
    }
   ],
   "source": [
    "bag_of_words1 = []\n",
    "\n",
    "bag_of_words1.append(doc1.split())\n",
    "bag_of_words1.append(doc2.split())\n",
    "bag_of_words1.append(doc3.split())\n",
    "\n",
    "\n",
    "\n",
    "bag_of_words = []\n",
    "\n",
    "for x in bag_of_words1:\n",
    "    for y in x:\n",
    "        bag_of_words.append(y)\n",
    "        \n",
    "\n",
    "bag_of_words = ','.join(bag_of_words)\n",
    "\n",
    "bag_of_words =bag_of_words.split('.')\n",
    "\n",
    "bag_of_words =''.join(bag_of_words)\n",
    "\n",
    "bag_of_words=bag_of_words.lower()\n",
    "bag_of_words = bag_of_words.split(sep='\\n')\n",
    "\n",
    "bag_of_words= list(set(bag_of_words)) \n",
    "print(bag_of_words)\n",
    "print(len(bag_of_words))\n",
    "\n",
    "\n",
    "\n",
    "\n"
   ]
  },
  {
   "cell_type": "markdown",
   "metadata": {},
   "source": [
    "Print `bag_of_words`. You should see: \n",
    "\n",
    "```['ironhack', 'is', 'cool', 'i', 'love', 'am', 'a', 'student', 'at']```"
   ]
  },
  {
   "cell_type": "code",
   "execution_count": 138,
   "metadata": {},
   "outputs": [
    {
     "name": "stdout",
     "output_type": "stream",
     "text": [
      "['ironhack,is,cool,i,love,ironhack,i,am,a,student,at,ironhack']\n"
     ]
    }
   ],
   "source": [
    "print(bag_of_words)"
   ]
  },
  {
   "cell_type": "markdown",
   "metadata": {},
   "source": [
    "Now we define an empty array called `term_freq`. Loop `corpus` for a second time. In each loop, create a sub-loop to iterate the terms in `bag_of_words`. Count how many times each term appears in each doc of `corpus`. Append the term-frequency array to `term_freq`."
   ]
  },
  {
   "cell_type": "code",
   "execution_count": null,
   "metadata": {},
   "outputs": [],
   "source": [
    "term_freq = []\n",
    "\n",
    "# Write your code here"
   ]
  },
  {
   "cell_type": "markdown",
   "metadata": {},
   "source": [
    "Print `term_freq`. You should see:\n",
    "\n",
    "```[[1, 1, 1, 0, 0, 0, 0, 0, 0], [1, 0, 0, 1, 1, 0, 0, 0, 0], [1, 0, 0, 1, 0, 1, 1, 1, 1]]```"
   ]
  },
  {
   "cell_type": "code",
   "execution_count": null,
   "metadata": {},
   "outputs": [],
   "source": [
    "print(term_freq)"
   ]
  },
  {
   "cell_type": "markdown",
   "metadata": {},
   "source": [
    "**If your answer is correct, congratulations! You've solved the challenge!**\n",
    "\n",
    "If not, go back and check for errors in your code."
   ]
  }
 ],
 "metadata": {
  "kernelspec": {
   "display_name": "Python 3",
   "language": "python",
   "name": "python3"
  },
  "language_info": {
   "codemirror_mode": {
    "name": "ipython",
    "version": 3
   },
   "file_extension": ".py",
   "mimetype": "text/x-python",
   "name": "python",
   "nbconvert_exporter": "python",
   "pygments_lexer": "ipython3",
   "version": "3.7.3"
  }
 },
 "nbformat": 4,
 "nbformat_minor": 2
}
